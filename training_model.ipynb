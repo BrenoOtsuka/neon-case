{
 "cells": [
  {
   "cell_type": "code",
   "execution_count": 5,
   "source": [
    "import numpy as np\n",
    "import pandas as pd\n",
    "\n",
    "import matplotlib.pyplot as plt\n",
    "\n",
    "\n",
    "from sklearn import preprocessing\n",
    "from sklearn.model_selection import train_test_split\n",
    "from sklearn.metrics import mean_absolute_error\n",
    "\n",
    "from xgboost import XGBRegressor"
   ],
   "outputs": [],
   "metadata": {}
  },
  {
   "cell_type": "code",
   "execution_count": 6,
   "source": [
    "def prepare_data():\n",
    "    broadband = read_broadband()\n",
    "    county_population_density_per_square_mile = read_county_population_density_per_square_mile()\n",
    "    postal_code_population = read_postal_code_population()\n",
    "\n",
    "    data = (broadband\n",
    "    .merge(county_population_density_per_square_mile, on='county_id')\n",
    "    .merge(postal_code_population, on='postal_code'))\n",
    "\n",
    "    data['population_without_broadband'] = np.ceil((1. - data.broadband_usage) * data.population)\n",
    "\n",
    "    return data[[\n",
    "        'st', \n",
    "        'county_id', 'county_name', 'density_per_square_mile', \n",
    "        'postal_code', 'population', 'population_without_broadband',\n",
    "        'broadband_usage', 'error_range_mae', 'error_range_95', 'msd'\n",
    "    ]], postal_code_population\n",
    "\n",
    "def read_broadband():\n",
    "    broadband = pd.read_csv('datasets/broadband_data.csv', sep=';')\n",
    "    broadband.rename(columns={\n",
    "        'error_range_(mae)(+/-)': 'error_range_mae',\n",
    "        'error_range_(95%)(+/-)': 'error_range_95'\n",
    "    }, inplace=True)\n",
    "\n",
    "    for column in ['broadband_usage', 'error_range_mae', 'error_range_95',\t'msd']:\n",
    "        broadband[column] = broadband[column].str.replace(',', '.').astype('float64')\n",
    "    # Converte county_id em string e prefixa '0' nos ids com 4 caracteres\n",
    "    broadband.county_id = broadband.county_id.apply('{:0>5}'.format)\n",
    "    # Remove county_ids de condatos equivalentes (Alguns CEPs estavam duplicados)\n",
    "    broadband.drop(broadband[broadband.county_id.isin(['02158', '46102', '27111', '27163'])].index, inplace=True)\n",
    "    \n",
    "    return broadband\n",
    "\n",
    "\n",
    "def read_county_population_density_per_square_mile():\n",
    "    population_density = pd.read_csv('datasets/density-per-square-mile.csv', sep=',')\n",
    "    population_density.rename(columns={\n",
    "        'GCT_STUB.target-geo-id2': 'county_id',\n",
    "        'Density per square mile of land area': 'density_per_square_mile'\n",
    "    }, inplace=True)\n",
    "\n",
    "    population_density.county_id = population_density.county_id.apply('{:0>5}'.format)\n",
    "\n",
    "    return population_density[['county_id', 'density_per_square_mile']]\n",
    "\n",
    "\n",
    "def read_postal_code_population():\n",
    "    return pd.read_csv('datasets/population_by_zipcode_2010.csv')"
   ],
   "outputs": [],
   "metadata": {}
  },
  {
   "cell_type": "code",
   "execution_count": 7,
   "source": [
    "data, _ = prepare_data()"
   ],
   "outputs": [],
   "metadata": {}
  },
  {
   "cell_type": "code",
   "execution_count": 8,
   "source": [
    "x = data[['st', 'density_per_square_mile', 'population']]\n",
    "y = data.population_without_broadband\n",
    "\n",
    "x_data, x_test, y_data, y_test = train_test_split(x, y, test_size=0.25)\n",
    "x_train, x_valid, y_train, y_valid = train_test_split(x_data, y_data, test_size=0.25)"
   ],
   "outputs": [],
   "metadata": {}
  },
  {
   "cell_type": "code",
   "execution_count": 9,
   "source": [
    "def prepare_input_data(encoder, x):\n",
    "    x_encoded = pd.DataFrame(encoder.transform(x[['st']]))\n",
    "    x_encoded.columns = encoder.get_feature_names(['st'])\n",
    "    x_encoded = pd.concat([x.drop(columns=['st']).reset_index(drop=True), x_encoded.reset_index(drop=True)], axis=1)\n",
    "    return x_encoded"
   ],
   "outputs": [],
   "metadata": {}
  },
  {
   "cell_type": "code",
   "execution_count": 10,
   "source": [
    "oneHotEncoder = preprocessing.OneHotEncoder(sparse=False, handle_unknown='ignore').fit(x_train[['st']])\n",
    "\n",
    "x_train = prepare_input_data(oneHotEncoder, x_train)\n",
    "x_valid = prepare_input_data(oneHotEncoder, x_valid)\n",
    "x_test = prepare_input_data(oneHotEncoder, x_test)"
   ],
   "outputs": [],
   "metadata": {}
  },
  {
   "cell_type": "code",
   "execution_count": 11,
   "source": [
    "model = XGBRegressor(n_estimators=100, max_depth=2, learning_rate=0.1, reg_alpha=.05, reg_lambda=.05)\n",
    "model.fit(x_train, y_train, \n",
    "            eval_set=[(x_train, y_train), (x_valid, y_valid)], \n",
    "            early_stopping_rounds=20,\n",
    "            verbose=False)\n",
    "\n",
    "results = model.evals_result()"
   ],
   "outputs": [],
   "metadata": {}
  },
  {
   "cell_type": "code",
   "execution_count": 12,
   "source": [
    "plt.figure(figsize=(15,5))\n",
    "plt.title('Training vs Validation Root Mean Square Error')\n",
    "plt.plot(results[\"validation_0\"][\"rmse\"], \"bo-\", label=\"Training loss\")\n",
    "plt.plot(results[\"validation_1\"][\"rmse\"], \"ro-\", label=\"Validation loss\")\n",
    "plt.xlabel(\"Number of trees\")\n",
    "plt.ylabel(\"Loss\")\n",
    "plt.grid(True)\n",
    "plt.legend()"
   ],
   "outputs": [
    {
     "output_type": "execute_result",
     "data": {
      "text/plain": [
       "<matplotlib.legend.Legend at 0x7fef698975b0>"
      ]
     },
     "metadata": {},
     "execution_count": 12
    },
    {
     "output_type": "display_data",
     "data": {
      "text/plain": [
       "<Figure size 1080x360 with 1 Axes>"
      ],
      "image/png": "[encoded data removed]"
     },
     "metadata": {
      "needs_background": "light"
     }
    }
   ],
   "metadata": {}
  },
  {
   "cell_type": "code",
   "execution_count": 13,
   "source": [
    "mean_absolute_error(y_test, model.predict(x_test)).round(2)"
   ],
   "outputs": [
    {
     "output_type": "execute_result",
     "data": {
      "text/plain": [
       "1816.45"
      ]
     },
     "metadata": {},
     "execution_count": 13
    }
   ],
   "metadata": {}
  }
 ],
 "metadata": {
  "orig_nbformat": 4,
  "language_info": {
   "name": "python"
  }
 },
 "nbformat": 4,
 "nbformat_minor": 2
}